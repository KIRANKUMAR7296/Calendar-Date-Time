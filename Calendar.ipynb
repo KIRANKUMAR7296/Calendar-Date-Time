{
 "cells": [
  {
   "cell_type": "markdown",
   "metadata": {},
   "source": [
    "## Calendar\n",
    "\n",
    "**Display Simple Calendar and Extract Attributes like Year, Month, Day.**\n",
    "\n",
    "**By Default : Monday is the First Day of the Week and Sunday is the Last Day of the Week.**\n",
    "\n",
    "**First Day of the Week can be Changed : calendar.setfirstweekday(calendar.SUNDAY)**\n",
    "\n",
    "**Week Indexing Starts from 0 : ( Monday : 0 ) | ( Tuesday : 1 ) | ( Wednesday : 2 ) | ( Thursday : 3 ) | ( Friday : 4 ) | ( Saturday : 5 ) | ( Sunday : 6 )**\n",
    "\n",
    "**Month Indexing Starts from 1 : ( January : 1 ) | ( February : 2 ) | ( March : 3 ) ... ( December : 12 )**"
   ]
  },
  {
   "cell_type": "code",
   "execution_count": 1,
   "metadata": {},
   "outputs": [],
   "source": [
    "import calendar"
   ]
  },
  {
   "cell_type": "markdown",
   "metadata": {},
   "source": [
    "**Calendar of Month**"
   ]
  },
  {
   "cell_type": "code",
   "execution_count": 2,
   "metadata": {},
   "outputs": [
    {
     "name": "stdout",
     "output_type": "stream",
     "text": [
      "     July 2020\n",
      "Mo Tu We Th Fr Sa Su\n",
      "       1  2  3  4  5\n",
      " 6  7  8  9 10 11 12\n",
      "13 14 15 16 17 18 19\n",
      "20 21 22 23 24 25 26\n",
      "27 28 29 30 31\n",
      "\n"
     ]
    }
   ],
   "source": [
    "print(calendar.month(2020, 7))"
   ]
  },
  {
   "cell_type": "markdown",
   "metadata": {},
   "source": [
    "**Calendar of Year**"
   ]
  },
  {
   "cell_type": "code",
   "execution_count": 3,
   "metadata": {},
   "outputs": [
    {
     "name": "stdout",
     "output_type": "stream",
     "text": [
      "                                  2020\n",
      "\n",
      "      January                   February                   March\n",
      "Mo Tu We Th Fr Sa Su      Mo Tu We Th Fr Sa Su      Mo Tu We Th Fr Sa Su\n",
      "       1  2  3  4  5                      1  2                         1\n",
      " 6  7  8  9 10 11 12       3  4  5  6  7  8  9       2  3  4  5  6  7  8\n",
      "13 14 15 16 17 18 19      10 11 12 13 14 15 16       9 10 11 12 13 14 15\n",
      "20 21 22 23 24 25 26      17 18 19 20 21 22 23      16 17 18 19 20 21 22\n",
      "27 28 29 30 31            24 25 26 27 28 29         23 24 25 26 27 28 29\n",
      "                                                    30 31\n",
      "\n",
      "       April                      May                       June\n",
      "Mo Tu We Th Fr Sa Su      Mo Tu We Th Fr Sa Su      Mo Tu We Th Fr Sa Su\n",
      "       1  2  3  4  5                   1  2  3       1  2  3  4  5  6  7\n",
      " 6  7  8  9 10 11 12       4  5  6  7  8  9 10       8  9 10 11 12 13 14\n",
      "13 14 15 16 17 18 19      11 12 13 14 15 16 17      15 16 17 18 19 20 21\n",
      "20 21 22 23 24 25 26      18 19 20 21 22 23 24      22 23 24 25 26 27 28\n",
      "27 28 29 30               25 26 27 28 29 30 31      29 30\n",
      "\n",
      "        July                     August                  September\n",
      "Mo Tu We Th Fr Sa Su      Mo Tu We Th Fr Sa Su      Mo Tu We Th Fr Sa Su\n",
      "       1  2  3  4  5                      1  2          1  2  3  4  5  6\n",
      " 6  7  8  9 10 11 12       3  4  5  6  7  8  9       7  8  9 10 11 12 13\n",
      "13 14 15 16 17 18 19      10 11 12 13 14 15 16      14 15 16 17 18 19 20\n",
      "20 21 22 23 24 25 26      17 18 19 20 21 22 23      21 22 23 24 25 26 27\n",
      "27 28 29 30 31            24 25 26 27 28 29 30      28 29 30\n",
      "                          31\n",
      "\n",
      "      October                   November                  December\n",
      "Mo Tu We Th Fr Sa Su      Mo Tu We Th Fr Sa Su      Mo Tu We Th Fr Sa Su\n",
      "          1  2  3  4                         1          1  2  3  4  5  6\n",
      " 5  6  7  8  9 10 11       2  3  4  5  6  7  8       7  8  9 10 11 12 13\n",
      "12 13 14 15 16 17 18       9 10 11 12 13 14 15      14 15 16 17 18 19 20\n",
      "19 20 21 22 23 24 25      16 17 18 19 20 21 22      21 22 23 24 25 26 27\n",
      "26 27 28 29 30 31         23 24 25 26 27 28 29      28 29 30 31\n",
      "                          30\n",
      "\n"
     ]
    }
   ],
   "source": [
    "print(calendar.calendar(2020))"
   ]
  },
  {
   "cell_type": "markdown",
   "metadata": {},
   "source": [
    "**Check whether the Year is a Leap Year :**"
   ]
  },
  {
   "cell_type": "code",
   "execution_count": 4,
   "metadata": {},
   "outputs": [
    {
     "name": "stdout",
     "output_type": "stream",
     "text": [
      "True\n"
     ]
    }
   ],
   "source": [
    "print(calendar.isleap(2020))"
   ]
  },
  {
   "cell_type": "markdown",
   "metadata": {},
   "source": [
    "**Check the Week Day of Your Birth Date :**\n",
    "\n",
    "**( Monday : 0 ) | ( Tuesday : 1 ) | ( Wednesday : 2 ) | ( Thursday : 3 ) | ( Friday : 4 ) | ( Saturday : 5 ) | ( Sunday : 6 )**"
   ]
  },
  {
   "cell_type": "code",
   "execution_count": 5,
   "metadata": {},
   "outputs": [
    {
     "name": "stdout",
     "output_type": "stream",
     "text": [
      "Day of My Birth was : 4\n"
     ]
    }
   ],
   "source": [
    "print(f'Day of My Birth was : {calendar.weekday(2020, 2, 7)}')"
   ]
  },
  {
   "cell_type": "markdown",
   "metadata": {},
   "source": [
    "### Month Attributes :\n",
    "\n",
    "**Abbreviation and Month Name**\n",
    "\n",
    "**Indexing of Months Starts from 1 : ( January : 1 ) | ( February : 2 ) | ( March : 3 )... ( December : 12 )**"
   ]
  },
  {
   "cell_type": "code",
   "execution_count": 6,
   "metadata": {},
   "outputs": [
    {
     "name": "stdout",
     "output_type": "stream",
     "text": [
      "Abbreviation : Jan\n",
      "Name of Month : January\n",
      "Weekday of the First Day of the Month and Number of Days in Month : (2, 31)\n"
     ]
    }
   ],
   "source": [
    "print(f'Abbreviation : {calendar.month_abbr[1]}')\n",
    "\n",
    "print(f'Name of Month : {calendar.month_name[1]}')\n",
    "\n",
    "print(f'Weekday of the First Day of the Month and Number of Days in Month : {calendar.monthrange(2020, 7)}')"
   ]
  },
  {
   "cell_type": "markdown",
   "metadata": {},
   "source": [
    "### Day Attributes :\n",
    "\n",
    "**Abbreviation and Week Day Name**\n",
    "\n",
    "**( Monday : 0 ) | ( Tuesday : 1 ) | ( Wednesday : 2 ) | ( Thursday : 3 ) | ( Friday : 4 ) | ( Saturday : 5 ) | ( Sunday : 6 )**"
   ]
  },
  {
   "cell_type": "code",
   "execution_count": 7,
   "metadata": {},
   "outputs": [
    {
     "name": "stdout",
     "output_type": "stream",
     "text": [
      "Abbreviation : Wed\n",
      "Name of Day: Wednesday\n",
      "Week Header Abbreviations : Mon  Tue  Wed  Thu  Fri  Sat  Sun \n",
      "Week Header :   Monday    Tuesday   Wednesday   Thursday    Friday    Saturday    Sunday  \n"
     ]
    }
   ],
   "source": [
    "print(f'Abbreviation : {calendar.day_abbr[2]}')\n",
    "\n",
    "print(f'Name of Day: {calendar.day_name[2]}')\n",
    "\n",
    "print(f'Week Header Abbreviations : {calendar.weekheader(4)}')\n",
    "\n",
    "print(f'Week Header : {calendar.weekheader(10)}')"
   ]
  },
  {
   "cell_type": "markdown",
   "metadata": {},
   "source": [
    "**Number of Leap Days in between Years**"
   ]
  },
  {
   "cell_type": "code",
   "execution_count": 8,
   "metadata": {},
   "outputs": [
    {
     "name": "stdout",
     "output_type": "stream",
     "text": [
      "2\n"
     ]
    }
   ],
   "source": [
    "print(calendar.leapdays(2010, 2020))"
   ]
  }
 ],
 "metadata": {
  "kernelspec": {
   "display_name": "Python 3",
   "language": "python",
   "name": "python3"
  },
  "language_info": {
   "codemirror_mode": {
    "name": "ipython",
    "version": 3
   },
   "file_extension": ".py",
   "mimetype": "text/x-python",
   "name": "python",
   "nbconvert_exporter": "python",
   "pygments_lexer": "ipython3",
   "version": "3.7.6"
  }
 },
 "nbformat": 4,
 "nbformat_minor": 4
}
