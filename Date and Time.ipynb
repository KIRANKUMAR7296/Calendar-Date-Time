{
 "cells": [
  {
   "cell_type": "markdown",
   "metadata": {},
   "source": [
    "## Date and Time"
   ]
  },
  {
   "cell_type": "code",
   "execution_count": 1,
   "metadata": {},
   "outputs": [],
   "source": [
    "import datetime"
   ]
  },
  {
   "cell_type": "markdown",
   "metadata": {},
   "source": [
    "**Current Date and Time**"
   ]
  },
  {
   "cell_type": "code",
   "execution_count": 2,
   "metadata": {},
   "outputs": [
    {
     "name": "stdout",
     "output_type": "stream",
     "text": [
      "2020-07-02 11:31:16.334961\n"
     ]
    }
   ],
   "source": [
    "print(datetime.datetime.now())"
   ]
  },
  {
   "cell_type": "code",
   "execution_count": 3,
   "metadata": {},
   "outputs": [
    {
     "name": "stdout",
     "output_type": "stream",
     "text": [
      "Date : 2020-07-02 11:31:16.417752\n",
      "Date : 2020-07-02\n",
      "Year : 2020\n",
      "Month : 7\n",
      "Day : 2\n",
      "Hour : 11\n",
      "Minute : 31\n",
      "Second : 16\n",
      "Microsecond : 420720\n"
     ]
    }
   ],
   "source": [
    "print(f'Date : {(datetime.datetime.now())}')\n",
    "\n",
    "print(f'Date : {(datetime.datetime.now().date())}')\n",
    "\n",
    "print(f'Year : {(datetime.datetime.now().year)}')\n",
    "\n",
    "print(f'Month : {(datetime.datetime.now().month)}')\n",
    "\n",
    "print(f'Day : {(datetime.datetime.now().day)}')\n",
    "\n",
    "print(f'Hour : {(datetime.datetime.now().hour)}')\n",
    "\n",
    "print(f'Minute : {(datetime.datetime.now().minute)}')\n",
    "\n",
    "print(f'Second : {(datetime.datetime.now().second)}')\n",
    "\n",
    "print(f'Microsecond : {(datetime.datetime.now().microsecond)}')"
   ]
  },
  {
   "cell_type": "markdown",
   "metadata": {},
   "source": [
    "<table><tr><td><img src = \"Date and Time.png\"></td></tr></table>\n",
    "\n",
    "**Create a Date Object**"
   ]
  },
  {
   "cell_type": "code",
   "execution_count": 4,
   "metadata": {},
   "outputs": [
    {
     "name": "stdout",
     "output_type": "stream",
     "text": [
      "2020-07-02 11:31:16.503501\n"
     ]
    }
   ],
   "source": [
    "Today = datetime.datetime.now()\n",
    "\n",
    "print(Today)"
   ]
  },
  {
   "cell_type": "markdown",
   "metadata": {},
   "source": [
    "**Methods for Formatting Date Object into Readable String**"
   ]
  },
  {
   "cell_type": "code",
   "execution_count": 5,
   "metadata": {},
   "outputs": [
    {
     "name": "stdout",
     "output_type": "stream",
     "text": [
      "----------------------------------------------\n",
      "Date Attributes :\n",
      "----------------------------------------------\n",
      "Date : 2020-07-02 11:31:16.503501\n",
      "Local Date and Time : Thu Jul  2 11:31:16 2020\n",
      "Local Date : 07/02/20\n",
      "Local Time : 11:31:16\n",
      "Custom Character : % Last Day of Submission\n",
      "\n",
      "Year Short Form : 20\n",
      "Year : 2020\n",
      "Day Number of Year : 184\n",
      "\n",
      "Day of Month (0 - 31) : 02\n",
      "Month Name Abbreviation : Jul\n",
      "Month Name : July\n",
      "Month Number : 07\n",
      "\n",
      "Week day Abbreviation : Thu\n",
      "Week day : Thursday\n",
      "Week day in Number : 4\n",
      "Week Number of Year : 26\n",
      "----------------------------------------------\n",
      "\n",
      "----------------------------------------------\n",
      "Time Attributes :\n",
      "----------------------------------------------\n",
      "AM or PM : AM\n",
      "\n",
      "Hour in 24 (00 - 23) : 11\n",
      "Hour in 12 (00 - 12) : 11\n",
      "\n",
      "Minutes (00 - 59) : 31\n",
      "Seconds (00 - 59) : 16\n",
      "Microseconds (000000 - 999999) : 503501\n",
      "----------------------------------------------\n",
      "Complete Date and Time : Thursday, July 2020 11:31:16:503501\n"
     ]
    }
   ],
   "source": [
    "print('----------------------------------------------')\n",
    "print(f'Date Attributes :')\n",
    "print('----------------------------------------------')\n",
    "\n",
    "print(f'Date : {Today}')\n",
    "print(f'Local Date and Time : {Today.strftime(\"%c\")}')\n",
    "\n",
    "print(f'Local Date : {Today.strftime(\"%x\")}')\n",
    "\n",
    "print(f'Local Time : {Today.strftime(\"%X\")}')\n",
    "\n",
    "print(f'Custom Character : {Today.strftime(\"%% Last Day of Submission\")}')\n",
    "\n",
    "print() # Year\n",
    "\n",
    "print(f'Year Short Form : {Today.strftime(\"%y\")}')\n",
    "\n",
    "print(f'Year : {Today.strftime(\"%Y\")}')\n",
    "\n",
    "print(f'Day Number of Year : {Today.strftime(\"%j\")}')\n",
    "\n",
    "print() # Month\n",
    "\n",
    "print(f'Day of Month (0 - 31) : {Today.strftime(\"%d\")}')\n",
    "\n",
    "print(f'Month Name Abbreviation : {Today.strftime(\"%b\")}')\n",
    "\n",
    "print(f'Month Name : {Today.strftime(\"%B\")}')\n",
    "\n",
    "print(f'Month Number : {Today.strftime(\"%m\")}')\n",
    "\n",
    "print() # WeeK\n",
    "\n",
    "print(f'Week day Abbreviation : {Today.strftime(\"%a\")}')\n",
    "\n",
    "print(f'Week day : {Today.strftime(\"%A\")}')\n",
    "\n",
    "print(f'Week day in Number : {Today.strftime(\"%w\")}')\n",
    "\n",
    "print(f'Week Number of Year : {Today.strftime(\"%W\")}')\n",
    "print('----------------------------------------------')\n",
    "\n",
    "print()\n",
    "\n",
    "print('----------------------------------------------')\n",
    "print(f'Time Attributes :')\n",
    "print('----------------------------------------------')\n",
    "\n",
    "\n",
    "print(f'AM or PM : {Today.strftime(\"%p\")}')\n",
    "\n",
    "print()\n",
    "\n",
    "print(f'Hour in 24 (00 - 23) : {Today.strftime(\"%H\")}')\n",
    "\n",
    "print(f'Hour in 12 (00 - 12) : {Today.strftime(\"%I\")}')\n",
    "\n",
    "print()\n",
    "\n",
    "print(f'Minutes (00 - 59) : {Today.strftime(\"%M\")}')\n",
    "\n",
    "print(f'Seconds (00 - 59) : {Today.strftime(\"%S\")}')\n",
    "\n",
    "print(f'Microseconds (000000 - 999999) : {Today.strftime(\"%f\")}')\n",
    "\n",
    "print('----------------------------------------------')\n",
    "\n",
    "print(f'Complete Date and Time : {Today.strftime(\"%A, %B %Y %I:%M:%S:%f\")}')\n"
   ]
  },
  {
   "cell_type": "markdown",
   "metadata": {},
   "source": [
    "**Creating Own Date Time Object (Year, Month, Day, Hours, Minutes, Seconds)**"
   ]
  },
  {
   "cell_type": "code",
   "execution_count": 6,
   "metadata": {},
   "outputs": [
    {
     "name": "stdout",
     "output_type": "stream",
     "text": [
      "2020-07-02 10:25:33\n"
     ]
    }
   ],
   "source": [
    "Date = datetime.datetime(2020, 7, 2, 10, 25, 33)\n",
    "print(Date)"
   ]
  },
  {
   "cell_type": "markdown",
   "metadata": {},
   "source": [
    "## Time Module\n",
    "\n",
    "**Handle Time related Task**"
   ]
  },
  {
   "cell_type": "code",
   "execution_count": 7,
   "metadata": {},
   "outputs": [],
   "source": [
    "import time"
   ]
  },
  {
   "cell_type": "markdown",
   "metadata": {},
   "source": [
    "**Seconds passed since Epoch (1 January 1970)**"
   ]
  },
  {
   "cell_type": "code",
   "execution_count": 11,
   "metadata": {},
   "outputs": [
    {
     "name": "stdout",
     "output_type": "stream",
     "text": [
      "Number of Seconds Passed since Epoch : 1593670548.888583\n"
     ]
    }
   ],
   "source": [
    "Seconds = time.time()\n",
    "print(f'Number of Seconds Passed since Epoch : {Seconds}')"
   ]
  },
  {
   "cell_type": "markdown",
   "metadata": {},
   "source": [
    "**Local Time**"
   ]
  },
  {
   "cell_type": "code",
   "execution_count": 12,
   "metadata": {},
   "outputs": [
    {
     "name": "stdout",
     "output_type": "stream",
     "text": [
      "Thu Jul  2 11:45:48 2020\n"
     ]
    }
   ],
   "source": [
    "print(time.ctime(Seconds))"
   ]
  },
  {
   "cell_type": "markdown",
   "metadata": {},
   "source": [
    "**Sleep Time**"
   ]
  },
  {
   "cell_type": "code",
   "execution_count": 14,
   "metadata": {},
   "outputs": [
    {
     "name": "stdout",
     "output_type": "stream",
     "text": [
      "Print Immediately\n",
      "Printed After 2 Seconds\n"
     ]
    }
   ],
   "source": [
    "print('Print Immediately')\n",
    "time.sleep(2)\n",
    "print('Printed After 2 Seconds')"
   ]
  }
 ],
 "metadata": {
  "kernelspec": {
   "display_name": "Python 3",
   "language": "python",
   "name": "python3"
  },
  "language_info": {
   "codemirror_mode": {
    "name": "ipython",
    "version": 3
   },
   "file_extension": ".py",
   "mimetype": "text/x-python",
   "name": "python",
   "nbconvert_exporter": "python",
   "pygments_lexer": "ipython3",
   "version": "3.7.6"
  }
 },
 "nbformat": 4,
 "nbformat_minor": 4
}
